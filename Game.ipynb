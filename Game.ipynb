{
 "cells": [
  {
   "cell_type": "code",
   "execution_count": 1,
   "metadata": {},
   "outputs": [],
   "source": [
    "import numpy as np\n",
    "import pandas as pd \n",
    "import seaborn as sea \n",
    "import matplotlib.pyplot as plt"
   ]
  },
  {
   "cell_type": "code",
   "execution_count": 2,
   "metadata": {
    "scrolled": true
   },
   "outputs": [
    {
     "data": {
      "text/html": [
       "<div>\n",
       "<style scoped>\n",
       "    .dataframe tbody tr th:only-of-type {\n",
       "        vertical-align: middle;\n",
       "    }\n",
       "\n",
       "    .dataframe tbody tr th {\n",
       "        vertical-align: top;\n",
       "    }\n",
       "\n",
       "    .dataframe thead th {\n",
       "        text-align: right;\n",
       "    }\n",
       "</style>\n",
       "<table border=\"1\" class=\"dataframe\">\n",
       "  <thead>\n",
       "    <tr style=\"text-align: right;\">\n",
       "      <th></th>\n",
       "      <th>event_datetime</th>\n",
       "      <th>player_id</th>\n",
       "      <th>level_number</th>\n",
       "      <th>status</th>\n",
       "      <th>session_id</th>\n",
       "    </tr>\n",
       "  </thead>\n",
       "  <tbody>\n",
       "    <tr>\n",
       "      <th>0</th>\n",
       "      <td>2020-11-28 21:00:24.958000</td>\n",
       "      <td>00020eac3d7e4f058b87eac1a9a85c25</td>\n",
       "      <td>6</td>\n",
       "      <td>complete</td>\n",
       "      <td>6ddf006b807e451eb4706d6d98a049b6</td>\n",
       "    </tr>\n",
       "    <tr>\n",
       "      <th>1</th>\n",
       "      <td>2020-11-27 22:03:03.048000</td>\n",
       "      <td>00020eac3d7e4f058b87eac1a9a85c25</td>\n",
       "      <td>2</td>\n",
       "      <td>start</td>\n",
       "      <td>3ba98db705f2aa0bc406441a61c23b3c</td>\n",
       "    </tr>\n",
       "    <tr>\n",
       "      <th>2</th>\n",
       "      <td>2020-11-26 14:53:09.344000</td>\n",
       "      <td>002188c0bc476f356f4c3b74e5cc66c8</td>\n",
       "      <td>1</td>\n",
       "      <td>start</td>\n",
       "      <td>25cf292a8f1d3da01df8371276502edf</td>\n",
       "    </tr>\n",
       "    <tr>\n",
       "      <th>3</th>\n",
       "      <td>2020-12-03 11:43:26.582000</td>\n",
       "      <td>00576ef3617e6bbbabfa0b1090e4122d</td>\n",
       "      <td>1</td>\n",
       "      <td>start</td>\n",
       "      <td>21fd6a7db53a9220574563ac8a8c8b58</td>\n",
       "    </tr>\n",
       "    <tr>\n",
       "      <th>4</th>\n",
       "      <td>2020-12-04 14:23:07.448000</td>\n",
       "      <td>00576ef3617e6bbbabfa0b1090e4122d</td>\n",
       "      <td>7</td>\n",
       "      <td>start</td>\n",
       "      <td>358b9ab5c1c0f08bc7def310411eb90f</td>\n",
       "    </tr>\n",
       "  </tbody>\n",
       "</table>\n",
       "</div>"
      ],
      "text/plain": [
       "               event_datetime                         player_id  level_number  \\\n",
       "0  2020-11-28 21:00:24.958000  00020eac3d7e4f058b87eac1a9a85c25             6   \n",
       "1  2020-11-27 22:03:03.048000  00020eac3d7e4f058b87eac1a9a85c25             2   \n",
       "2  2020-11-26 14:53:09.344000  002188c0bc476f356f4c3b74e5cc66c8             1   \n",
       "3  2020-12-03 11:43:26.582000  00576ef3617e6bbbabfa0b1090e4122d             1   \n",
       "4  2020-12-04 14:23:07.448000  00576ef3617e6bbbabfa0b1090e4122d             7   \n",
       "\n",
       "     status                        session_id  \n",
       "0  complete  6ddf006b807e451eb4706d6d98a049b6  \n",
       "1     start  3ba98db705f2aa0bc406441a61c23b3c  \n",
       "2     start  25cf292a8f1d3da01df8371276502edf  \n",
       "3     start  21fd6a7db53a9220574563ac8a8c8b58  \n",
       "4     start  358b9ab5c1c0f08bc7def310411eb90f  "
      ]
     },
     "execution_count": 2,
     "metadata": {},
     "output_type": "execute_result"
    }
   ],
   "source": [
    "df=pd.read_csv(\"C:\\\\Users\\\\Avirup\\\\Documents\\\\Python_datasets\\\\level_progress.csv\")\n",
    "df.head()"
   ]
  },
  {
   "cell_type": "code",
   "execution_count": 3,
   "metadata": {},
   "outputs": [
    {
     "data": {
      "text/plain": [
       "event_datetime    0\n",
       "player_id         0\n",
       "level_number      0\n",
       "status            0\n",
       "session_id        0\n",
       "dtype: int64"
      ]
     },
     "execution_count": 3,
     "metadata": {},
     "output_type": "execute_result"
    }
   ],
   "source": [
    "df.isnull().sum()"
   ]
  },
  {
   "cell_type": "code",
   "execution_count": 4,
   "metadata": {
    "scrolled": true
   },
   "outputs": [
    {
     "name": "stdout",
     "output_type": "stream",
     "text": [
      "<class 'pandas.core.frame.DataFrame'>\n",
      "RangeIndex: 55826 entries, 0 to 55825\n",
      "Data columns (total 5 columns):\n",
      " #   Column          Non-Null Count  Dtype \n",
      "---  ------          --------------  ----- \n",
      " 0   event_datetime  55826 non-null  object\n",
      " 1   player_id       55826 non-null  object\n",
      " 2   level_number    55826 non-null  int64 \n",
      " 3   status          55826 non-null  object\n",
      " 4   session_id      55826 non-null  object\n",
      "dtypes: int64(1), object(4)\n",
      "memory usage: 2.1+ MB\n"
     ]
    }
   ],
   "source": [
    "df.info()"
   ]
  },
  {
   "cell_type": "code",
   "execution_count": 5,
   "metadata": {},
   "outputs": [
    {
     "data": {
      "text/plain": [
       "array([ 6,  2,  1,  7,  9,  0,  5,  3,  4,  8, 25, 11, 14, 22, 12, 10, 13,\n",
       "       31, 29, 42, 37, 15, 27, 16, 23, 39, 38, 24, 30, 26, 21, 35, 48, 18,\n",
       "       32, 17, 19, 20, 44, 43, 36, 28, 33, 40, 34, 46, 41, 45, 47, 49],\n",
       "      dtype=int64)"
      ]
     },
     "execution_count": 5,
     "metadata": {},
     "output_type": "execute_result"
    }
   ],
   "source": [
    "df['level_number'].unique()"
   ]
  },
  {
   "cell_type": "code",
   "execution_count": 6,
   "metadata": {},
   "outputs": [
    {
     "data": {
      "text/plain": [
       "3872"
      ]
     },
     "execution_count": 6,
     "metadata": {},
     "output_type": "execute_result"
    }
   ],
   "source": [
    "df['player_id'].nunique()"
   ]
  },
  {
   "cell_type": "markdown",
   "metadata": {},
   "source": [
    "## Subsetting 'fail' out of the dataset "
   ]
  },
  {
   "cell_type": "code",
   "execution_count": 7,
   "metadata": {},
   "outputs": [
    {
     "data": {
      "text/html": [
       "<div>\n",
       "<style scoped>\n",
       "    .dataframe tbody tr th:only-of-type {\n",
       "        vertical-align: middle;\n",
       "    }\n",
       "\n",
       "    .dataframe tbody tr th {\n",
       "        vertical-align: top;\n",
       "    }\n",
       "\n",
       "    .dataframe thead th {\n",
       "        text-align: right;\n",
       "    }\n",
       "</style>\n",
       "<table border=\"1\" class=\"dataframe\">\n",
       "  <thead>\n",
       "    <tr style=\"text-align: right;\">\n",
       "      <th></th>\n",
       "      <th>event_datetime</th>\n",
       "      <th>player_id</th>\n",
       "      <th>level_number</th>\n",
       "      <th>status</th>\n",
       "      <th>session_id</th>\n",
       "    </tr>\n",
       "  </thead>\n",
       "  <tbody>\n",
       "    <tr>\n",
       "      <th>37</th>\n",
       "      <td>2020-11-18 09:10:58.541000</td>\n",
       "      <td>000948918c5ed8e1dd02e3c8fcbcae8e</td>\n",
       "      <td>4</td>\n",
       "      <td>fail</td>\n",
       "      <td>d2ccda83d3df92b31d37189e1b2a078b</td>\n",
       "    </tr>\n",
       "    <tr>\n",
       "      <th>47</th>\n",
       "      <td>2020-11-22 16:28:43.209000</td>\n",
       "      <td>005fde66a4f93e41b628fa76290fff6b</td>\n",
       "      <td>3</td>\n",
       "      <td>fail</td>\n",
       "      <td>8e365c77bb39dddcd2860c3ed9f36c71</td>\n",
       "    </tr>\n",
       "    <tr>\n",
       "      <th>57</th>\n",
       "      <td>2020-11-21 06:55:10.842000</td>\n",
       "      <td>00b3c8d004f34341f938ce84bedc6cdd</td>\n",
       "      <td>4</td>\n",
       "      <td>fail</td>\n",
       "      <td>79038897ae864fdeaf4263b1abd129e2</td>\n",
       "    </tr>\n",
       "    <tr>\n",
       "      <th>71</th>\n",
       "      <td>2020-11-20 21:30:34.097000</td>\n",
       "      <td>0094f5714dd17f0f0f3f45b9cd40ed23</td>\n",
       "      <td>8</td>\n",
       "      <td>fail</td>\n",
       "      <td>bad109a7bdb5a2607093daefdd72e722</td>\n",
       "    </tr>\n",
       "    <tr>\n",
       "      <th>76</th>\n",
       "      <td>2020-11-22 09:24:38.748000</td>\n",
       "      <td>0035ff83e7e08d77a7808bd150147927</td>\n",
       "      <td>4</td>\n",
       "      <td>fail</td>\n",
       "      <td>547e380d14c18fd714e0d3b0999c6a77</td>\n",
       "    </tr>\n",
       "  </tbody>\n",
       "</table>\n",
       "</div>"
      ],
      "text/plain": [
       "                event_datetime                         player_id  \\\n",
       "37  2020-11-18 09:10:58.541000  000948918c5ed8e1dd02e3c8fcbcae8e   \n",
       "47  2020-11-22 16:28:43.209000  005fde66a4f93e41b628fa76290fff6b   \n",
       "57  2020-11-21 06:55:10.842000  00b3c8d004f34341f938ce84bedc6cdd   \n",
       "71  2020-11-20 21:30:34.097000  0094f5714dd17f0f0f3f45b9cd40ed23   \n",
       "76  2020-11-22 09:24:38.748000  0035ff83e7e08d77a7808bd150147927   \n",
       "\n",
       "    level_number status                        session_id  \n",
       "37             4   fail  d2ccda83d3df92b31d37189e1b2a078b  \n",
       "47             3   fail  8e365c77bb39dddcd2860c3ed9f36c71  \n",
       "57             4   fail  79038897ae864fdeaf4263b1abd129e2  \n",
       "71             8   fail  bad109a7bdb5a2607093daefdd72e722  \n",
       "76             4   fail  547e380d14c18fd714e0d3b0999c6a77  "
      ]
     },
     "execution_count": 7,
     "metadata": {},
     "output_type": "execute_result"
    }
   ],
   "source": [
    "inc=df.loc[df.status=='fail',:]\n",
    "inc.head()"
   ]
  },
  {
   "cell_type": "code",
   "execution_count": 8,
   "metadata": {},
   "outputs": [
    {
     "data": {
      "image/png": "[encoded data removed]",
      "text/plain": [
       "<Figure size 1080x576 with 1 Axes>"
      ]
     },
     "metadata": {
      "needs_background": "light"
     },
     "output_type": "display_data"
    }
   ],
   "source": [
    "plt.figure(figsize=(15,8))\n",
    "sea.countplot(inc['level_number'],label=\"count\")\n",
    "plt.show()"
   ]
  },
  {
   "cell_type": "markdown",
   "metadata": {},
   "source": [
    "The above graph clearly depicts that the players are likely to fail mostly in Level 3."
   ]
  }
 ],
 "metadata": {
  "kernelspec": {
   "display_name": "Python 3",
   "language": "python",
   "name": "python3"
  },
  "language_info": {
   "codemirror_mode": {
    "name": "ipython",
    "version": 3
   },
   "file_extension": ".py",
   "mimetype": "text/x-python",
   "name": "python",
   "nbconvert_exporter": "python",
   "pygments_lexer": "ipython3",
   "version": "3.8.3"
  }
 },
 "nbformat": 4,
 "nbformat_minor": 4
}
